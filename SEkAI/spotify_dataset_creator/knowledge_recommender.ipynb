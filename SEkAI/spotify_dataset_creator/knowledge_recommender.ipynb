{
 "cells": [
  {
   "cell_type": "code",
   "execution_count": null,
   "id": "7b747547",
   "metadata": {},
   "outputs": [],
   "source": [
    "import pandas as pd\n",
    "import numpy as np\n",
    "df = pd.read_csv('./cleaned_labeled_recom.csv')\n",
    "#Print all the features (or columns) of the DataFrame\n",
    "df.columns"
   ]
  },
  {
   "cell_type": "code",
   "execution_count": null,
   "id": "870a17c6",
   "metadata": {},
   "outputs": [],
   "source": [
    "df.head()"
   ]
  },
  {
   "cell_type": "code",
   "execution_count": null,
   "id": "c15975db",
   "metadata": {},
   "outputs": [],
   "source": [
    "df['explicit'] = df['explicit'].replace([False, True], [0, 1])\n",
    "\n",
    "\n",
    "df.head()"
   ]
  },
  {
   "cell_type": "code",
   "execution_count": null,
   "id": "3e40b162",
   "metadata": {},
   "outputs": [],
   "source": [
    "#Import the literal_eval function from ast\n",
    "from ast import literal_eval\n",
    "#Define a stringified list and output its type\n",
    "#Convert all NaN into stringified empty lists\n",
    "df['all_artists'] = df['all_artists'].replace(['[', ']'], [\"\\'[\\'\", \"\\']\\'\"])\n",
    "df['all_artists'] = df['all_artists'].fillna('[]')\n",
    "#Apply literal_eval to convert to the list object\n",
    "df['all_artists'] = df['all_artists'].apply(literal_eval)\n",
    "\n",
    "#Convert list of dictionaries to a list of strings\n",
    "df['all_artists'] = df['all_artists'].apply(lambda x: [i for i in x] if isinstance(x, list) else [])\n",
    "df.head()\n",
    "#Create a new feature by exploding genres\n",
    "s = df.apply(lambda x: pd.Series(x['all_artists']),axis=1).stack().reset_index(level=1, drop=True)\n",
    "#Name the new feature as 'genre'\n",
    "s.name = 'artist'\n",
    "#Create a new dataframe gen_df which by dropping the old 'genres' feature and adding the new 'genre'.\n",
    "gen_df = df.drop('all_artists', axis=1).join(s)\n",
    "#Print the head of the new gen_df\n",
    "gen_df.head(10)"
   ]
  },
  {
   "cell_type": "code",
   "execution_count": null,
   "id": "9ec4aca8",
   "metadata": {},
   "outputs": [],
   "source": [
    "gen_df = gen_df[['title', 'artist', 'release_date', 'genre', 'explicit', 'popularity',\n",
    "                 'danceability', 'energy', 'key', 'loudness', 'mode', 'speechiness',\n",
    "                 'acousticness', 'instrumentalness', 'liveness', 'valence', 'tempo',\n",
    "                 'time_signature', 'emotion']]\n",
    "gen_df.head(10)"
   ]
  },
  {
   "cell_type": "code",
   "execution_count": null,
   "id": "6afa9f9e",
   "metadata": {},
   "outputs": [],
   "source": [
    "# gen_df.shape\n",
    "# sec_df = gen_df[gen_df.isna()]\n",
    "# print(sec_df.iloc[:, 2:-1])\n",
    "gen_df.isnull().sum()\n",
    "new_df = gen_df.drop(columns=['title', 'artist', 'release_date', 'genre', 'emotion'])\n",
    "new_df.corr()"
   ]
  },
  {
   "cell_type": "code",
   "execution_count": null,
   "id": "adbbe6d5",
   "metadata": {},
   "outputs": [],
   "source": [
    "from sklearn import preprocessing\n",
    "from sklearn.cluster import KMeans\n",
    "\n",
    "x = new_df.values #returns a numpy array\n",
    "min_max_scaler = preprocessing.MinMaxScaler()\n",
    "x_scaled = min_max_scaler.fit_transform(x)\n",
    "norm_df = pd.DataFrame(x_scaled)\n",
    "print(norm_df.head())\n",
    "\n",
    "kmeans = KMeans(n_clusters=7)\n",
    "features = kmeans.fit_predict(norm_df)\n",
    "gen_df['features'] = features\n",
    "MinMaxScaler(gen_df['features'])\n",
    "print(gen_df.head())\n",
    "gen_df.to_csv('./finalUsable.csv')"
   ]
  },
  {
   "cell_type": "code",
   "execution_count": null,
   "id": "f3d15a4f",
   "metadata": {},
   "outputs": [],
   "source": [
    "import pandas as pd\n",
    "import numpy as np\n",
    "\n",
    "gen_df = pd.read_csv('./finalUsable.csv')\n",
    "gen_df.columns"
   ]
  },
  {
   "cell_type": "code",
   "execution_count": null,
   "id": "3821430c",
   "metadata": {},
   "outputs": [],
   "source": [
    "from tqdm import tqdm\n",
    "\n",
    "def recommend_based_on_song_name(gen_df, song_name, amount=1):\n",
    "    distance = []\n",
    "    song = gen_df[gen_df.title.str.lower() == song_name.lower()].head(1).values[0]\n",
    "    emotion = gen_df[gen_df.title.str.lower() == song_name.lower()].head(1).values[0][-2]\n",
    "    print(emotion)\n",
    "    rec = gen_df[gen_df.title.str.lower() != song_name.lower()]\n",
    "    for songs in tqdm(rec.values):\n",
    "        d = 0\n",
    "        for col in np.arange(len(rec.columns)):\n",
    "            if not col in [0, 1, 2, 3, 4, 6, 11, 19]:\n",
    "                d = d + np.absolute(float(song[col]) - float(songs[col]))\n",
    "        distance.append(d)\n",
    "    rec['distance'] = distance\n",
    "    rec = rec.sort_values('distance')\n",
    "    rec = rec.loc[rec['emotion'] == emotion]\n",
    "    columns = ['index', 'title', 'artist']\n",
    "    return rec[columns][:amount]\n",
    "\n",
    "something = recommend_based_on_song_name(gen_df, 'Everybody Needs Somebody To Love', 5)\n",
    "something.values.tolist()"
   ]
  },
  {
   "cell_type": "code",
   "execution_count": null,
   "id": "f5b636f1",
   "metadata": {},
   "outputs": [],
   "source": [
    "from tqdm import tqdm\n",
    "\n",
    "def recommend_based_on_genre(gen_df, genre, amount=1):\n",
    "    distance = []\n",
    "    genre_df = gen_df[gen_df.genre.str.lower() == genre.lower()].head(1).values[0]\n",
    "    emotion = gen_df[gen_df.genre.str.lower() == genre.lower()].head(1).values[0][-2]\n",
    "    rec = gen_df[gen_df.genre.str.lower() != genre.lower()]\n",
    "    for songs in tqdm(rec.values):\n",
    "        d = 0\n",
    "        for col in np.arange(len(rec.columns)):\n",
    "            if not col in [0, 1, 2, 3, 4, 6, 11, 19]:\n",
    "                d = d + np.absolute(float(genre_df[col]) - float(songs[col]))\n",
    "        distance.append(d)\n",
    "    rec['distance'] = distance\n",
    "    rec = rec.sort_values('distance')\n",
    "    rec = rec.loc[rec['emotion'] == emotion]\n",
    "    columns = ['index', 'title', 'artist']\n",
    "    return rec[columns][:amount]\n",
    "\n",
    "recommend_based_on_genre(gen_df, 'dance pop', 5)"
   ]
  },
  {
   "cell_type": "code",
   "execution_count": null,
   "id": "ae9a2428",
   "metadata": {},
   "outputs": [],
   "source": [
    "from tqdm import tqdm\n",
    "\n",
    "def recommend_based_on_genre_year(gen_df, genre, year_min, amount=1):\n",
    "    distance = []\n",
    "    genre_df = gen_df[gen_df.genre.str.lower() == genre.lower()].head(1).values[0]\n",
    "    emotion = gen_df[gen_df.genre.str.lower() == genre.lower()].head(1).values[0][-2]\n",
    "    rec = gen_df[gen_df.genre.str.lower() != genre.lower()]\n",
    "    for songs in tqdm(rec.values):\n",
    "        d = 0\n",
    "        for col in np.arange(len(rec.columns)):\n",
    "            if not col in [0, 1, 2, 3, 4, 6, 11, 19]:\n",
    "                d = d + np.absolute(float(genre_df[col]) - float(songs[col]))\n",
    "        distance.append(d)\n",
    "    rec['distance'] = distance\n",
    "    rec = rec.sort_values('distance')\n",
    "    rec = rec.loc[(rec['emotion'] == emotion) & (rec['release_date'] > year_min)]\n",
    "    rec = rec.drop_duplicates(subset='title')\n",
    "    columns = ['title', 'artist']\n",
    "    return rec[columns][:amount]\n",
    "\n",
    "recommend_based_on_genre_year(gen_df, 'classic swedish pop', 2000, 5)"
   ]
  },
  {
   "cell_type": "code",
   "execution_count": null,
   "id": "4ffcf943",
   "metadata": {},
   "outputs": [],
   "source": [
    "from tqdm import tqdm\n",
    "\n",
    "def recommend_mix(gen_df, song_name, artist, genre, year_min, emotion, amount=1):\n",
    "    distance = []\n",
    "    mix_df = gen_df[(gen_df.genre.str.lower() == genre.lower()) |\n",
    "                    (gen_df.artist.str.lower() == artist.lower()) |\n",
    "                    (gen_df.title.str.lower() == song_name.lower())].head(1).values[0]\n",
    "    rec = gen_df[(gen_df.genre.str.lower() != genre.lower()) &\n",
    "                (gen_df.title.str.lower() != song_name.lower()) &\n",
    "                (gen_df.artist.str.lower() != artist.lower())]\n",
    "    for songs in tqdm(rec.values):\n",
    "        d = 0\n",
    "        for col in np.arange(len(rec.columns)):\n",
    "            if not col in [0, 1, 2, 3, 4, 6, 11, 19]:\n",
    "                d = d + np.absolute(float(mix_df[col]) - float(songs[col]))\n",
    "        distance.append(d)\n",
    "    rec['distance'] = distance\n",
    "    rec = rec.sort_values('distance')\n",
    "    rec = rec.loc[(rec['emotion'] == emotion) & (rec['release_date'] > year_min)]\n",
    "    rec = rec.drop_duplicates(subset='title')\n",
    "    columns = ['title', 'artist']\n",
    "    return rec[columns][:amount]\n",
    "\n",
    "something = recommend_mix(gen_df, 'The Wire', 'HAIM', 'classic swedish pop', 2000, 'Angry',5)"
   ]
  },
  {
   "cell_type": "code",
   "execution_count": null,
   "id": "7795dac1",
   "metadata": {},
   "outputs": [],
   "source": [
    "row1 = gen_df.sample(n = 1)\n",
    "row1\n",
    "emotion_list = ['Happy', 'Surprise', 'Neutral', 'Angry', 'Sad', 'Disgust', 'Fear']\n",
    "my_list = []\n",
    "total = 0\n",
    "for emotion in emotion_list:\n",
    "    a = gen_df[df['emotion'] == emotion]['emotion'].count()\n",
    "    print(emotion, a)\n",
    "    my_list.append(a)\n",
    "    total += a\n",
    "\n",
    "print(total, my_list)\n",
    "for i in range(len(my_list)):\n",
    "    my_list[i] = float(my_list[i]) / float(total) * 100.0\n",
    "    \n",
    "print(my_list, sum(my_list))\n",
    "start_angle = 0\n",
    "end_angle = 0\n",
    "for i in range(len(my_list)):\n",
    "    end_angle = start_angle + 360.0 * my_list[i] / 100.0\n",
    "    print(start_angle, end_angle, emotion_list[i])\n",
    "    start_angle = end_angle\n"
   ]
  },
  {
   "cell_type": "code",
   "execution_count": null,
   "id": "98cb1122",
   "metadata": {},
   "outputs": [],
   "source": [
    "# good emotions\n",
    "# happy, surprise, neutral\n",
    "# bad emotions\n",
    "# angry, sad, disgust, fear"
   ]
  },
  {
   "cell_type": "code",
   "execution_count": null,
   "id": "1d2d49a8",
   "metadata": {},
   "outputs": [],
   "source": [
    "import pandas as pd\n",
    "import numpy as np\n",
    "df = pd.read_csv('./finalUsable.csv')\n",
    "df.head()"
   ]
  },
  {
   "cell_type": "code",
   "execution_count": null,
   "id": "7a35839a",
   "metadata": {},
   "outputs": [],
   "source": [
    "song_id = [0, 1, 2, 3, 4, 5, 77]\n",
    "liked_emotion = []\n",
    "for si in song_id:\n",
    "    songid = df[df['index'] == si].index\n",
    "    songid = songid[0]\n",
    "    emotion = df.at[songid, 'emotion']\n",
    "    liked_emotion.append(emotion)\n",
    "print(liked_emotion)"
   ]
  },
  {
   "cell_type": "code",
   "execution_count": null,
   "id": "c7ad711d",
   "metadata": {},
   "outputs": [],
   "source": [
    "df.sort_values(by=[\"popularity\"], ascending=False).iloc[:4, :].values.tolist()"
   ]
  },
  {
   "cell_type": "code",
   "execution_count": null,
   "id": "841c56ab",
   "metadata": {},
   "outputs": [],
   "source": [
    "import urllib.request\n",
    "import re\n",
    "\n",
    "my_list = [[674, 'After Midnight', 'Fastway', 22], [747, 'How Bizarre', 'OMC', 0], [847, 'Wake Me Up', 'Avicii', 10], [622, \"Livin' On A Prayer\", 'Bon Jovi', 0]]\n",
    "\n",
    "def returnable(df_to_list):\n",
    "    id_list = []\n",
    "    song_hash = []\n",
    "    for item in df_to_list:\n",
    "        id_list.append(item[0])\n",
    "        name = item[1] + ' ' + item[2]\n",
    "        name = name.replace(' ', '+')\n",
    "        print(name)\n",
    "        html = urllib.request.urlopen(\"https://www.youtube.com/results?search_query={0}\".format(name.encode('utf-8')))\n",
    "        video_ids = re.findall(r\"watch\\?v=(\\S{11})\", html.read().decode())\n",
    "        song_hash.append(video_ids[0])\n",
    "        print('https://www.youtube.com/watch?v=' + video_ids[0])\n",
    "    return id_list, song_hash\n",
    "id_list, song_hash = returnable(my_list)\n",
    "print(id_list, '\\n', song_hash)"
   ]
  }
 ],
 "metadata": {
  "kernelspec": {
   "display_name": "Python 3 (ipykernel)",
   "language": "python",
   "name": "python3"
  },
  "language_info": {
   "codemirror_mode": {
    "name": "ipython",
    "version": 3
   },
   "file_extension": ".py",
   "mimetype": "text/x-python",
   "name": "python",
   "nbconvert_exporter": "python",
   "pygments_lexer": "ipython3",
   "version": "3.9.12"
  }
 },
 "nbformat": 4,
 "nbformat_minor": 5
}
