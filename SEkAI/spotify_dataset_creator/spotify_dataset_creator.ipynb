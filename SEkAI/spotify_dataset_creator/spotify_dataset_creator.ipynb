{
 "cells": [
  {
   "cell_type": "code",
   "execution_count": null,
   "id": "99501c0e",
   "metadata": {},
   "outputs": [],
   "source": [
    "# importing the necessary packages\n",
    "import spotipy \n",
    "sp = spotipy.Spotify() \n",
    "from spotipy.oauth2 import SpotifyClientCredentials \n",
    "import spotipy.util as util"
   ]
  },
  {
   "cell_type": "code",
   "execution_count": null,
   "id": "0b0844ef",
   "metadata": {},
   "outputs": [],
   "source": [
    "# setting up authorization\n",
    "cid =\"secret\" \n",
    "secret = \"secret\"\n",
    "# saving the info you're going to need\n",
    "username = 'yet_another_secret'\n",
    "scope = 'user-library-read' #check the documentation\n",
    "authorization_url = 'https://accounts.spotify.com/authorize'\n",
    "token_url = 'https://accounts.spotify.com/api/token'\n",
    "redirect_uri ='https://localhost.com/callback/'\n",
    "\n",
    "token = util.prompt_for_user_token(username,scope,client_id=cid,client_secret=secret,redirect_uri='https://localhost.com/callback/')\n",
    "client_credentials_manager = SpotifyClientCredentials(client_id=cid, client_secret=secret)\n",
    "sp = spotipy.Spotify(client_credentials_manager=client_credentials_manager)"
   ]
  },
  {
   "cell_type": "code",
   "execution_count": null,
   "id": "e37c966f",
   "metadata": {},
   "outputs": [],
   "source": [
    "# retrieving you access token\n",
    "auth = SpotifyClientCredentials(client_id=cid,\n",
    "                                client_secret=secret)\n",
    "# save your token\n",
    "token = auth.get_access_token()\n",
    "spotify = spotipy.Spotify(auth=token)\n",
    "# check if everything is in order\n",
    "print(token)\n",
    "print(spotify)"
   ]
  },
  {
   "cell_type": "code",
   "execution_count": null,
   "id": "9f5a4fac",
   "metadata": {},
   "outputs": [],
   "source": [
    "playlist_emotion_dict = {'your_playlist_hash' : 'Happy',\n",
    "                        'your_playlist_hash' : 'Surprise',\n",
    "                        'your_playlist_hash' : 'Neutral',\n",
    "                        'your_playlist_hash' : 'Sad',\n",
    "                        'your_playlist_hash' : 'Angry',\n",
    "                        'your_playlist_hash' : 'Disgust',\n",
    "                        'your_playlist_hash' : 'Fear'}\n",
    "\n",
    "for value in playlist_emotion_dict:\n",
    "    print(value, playlist_emotion_dict[value])"
   ]
  },
  {
   "cell_type": "code",
   "execution_count": null,
   "id": "0a72403d",
   "metadata": {},
   "outputs": [],
   "source": [
    "import pprint\n",
    "# tracks printer for a playlist\n",
    "big_count = 0\n",
    "count_array = []\n",
    "import csv\n",
    "\n",
    "header = ['title', 'all_artists', 'release_date', 'explicit', 'popularity', 'danceability', 'energy', 'key', 'loudness',\n",
    "                         'mode', 'speechiness', 'acousticness', 'instrumentalness',\n",
    "                         'liveness', 'valence', 'tempo', 'time_signature', 'emotion']\n",
    "with open('./spotifyRecommendationLabeledData.csv', 'w', encoding='UTF8') as f:\n",
    "    writer = csv.writer(f)\n",
    "    writer.writerow(header)\n",
    "    for value in playlist_emotion_dict:\n",
    "        print(value, playlist_emotion_dict[value])\n",
    "        local_count = 0\n",
    "        for i in range(0, 500, 100):\n",
    "            results = sp.user_playlist_tracks('check_docs', value, limit=100, offset=i)\n",
    "            for result in results['items']:\n",
    "                local_row = []\n",
    "                my_list = []\n",
    "                for artist in result['track']['artists']:\n",
    "                    my_list.append(artist['name'])\n",
    "                print(result['track']['name'], my_list, result['track']['album']['release_date'].split('-')[0],\n",
    "                     result['track']['explicit'], result['track']['popularity'])\n",
    "                local_row.append(result['track']['name'])\n",
    "                local_row.append(str(my_list))\n",
    "                local_row.append(result['track']['album']['release_date'].split('-')[0])\n",
    "                local_row.append(result['track']['explicit'])\n",
    "                local_row.append(result['track']['popularity'])\n",
    "                \n",
    "                song_features = sp.audio_features(result['track']['uri'])\n",
    "                for feature in song_features:\n",
    "                    print(feature['danceability'], feature['energy'], feature['key'], feature['loudness'],\n",
    "                         feature['mode'], feature['speechiness'],feature['acousticness'], feature['instrumentalness'],\n",
    "                         feature['liveness'], feature['valence'], feature['tempo'], feature['time_signature'])\n",
    "                    local_row.append(feature['danceability'])\n",
    "                    local_row.append(feature['energy'])\n",
    "                    local_row.append(feature['key'])\n",
    "                    local_row.append(feature['loudness'])\n",
    "                    local_row.append(feature['mode'])\n",
    "                    local_row.append(feature['speechiness'])\n",
    "                    local_row.append(feature['acousticness'])\n",
    "                    local_row.append(feature['instrumentalness'])\n",
    "                    local_row.append(feature['liveness'])\n",
    "                    local_row.append(feature['valence'])\n",
    "                    local_row.append(feature['tempo'])\n",
    "                    local_row.append(feature['time_signature'])\n",
    "                    local_row.append(playlist_emotion_dict[value])\n",
    "                local_count += 1\n",
    "                writer.writerow(local_row)\n",
    "                big_count += 1\n",
    "        \n",
    "        count_array.append(local_count)"
   ]
  },
  {
   "cell_type": "code",
   "execution_count": null,
   "id": "f48074d6",
   "metadata": {},
   "outputs": [],
   "source": [
    "df = pd.read_csv('./spotifyRecommendationLabeledData.csv')\n",
    "df.emotion.unique()"
   ]
  },
  {
   "cell_type": "code",
   "execution_count": null,
   "id": "21159586",
   "metadata": {},
   "outputs": [],
   "source": []
  }
 ],
 "metadata": {
  "kernelspec": {
   "display_name": "Python 3 (ipykernel)",
   "language": "python",
   "name": "python3"
  },
  "language_info": {
   "codemirror_mode": {
    "name": "ipython",
    "version": 3
   },
   "file_extension": ".py",
   "mimetype": "text/x-python",
   "name": "python",
   "nbconvert_exporter": "python",
   "pygments_lexer": "ipython3",
   "version": "3.9.12"
  }
 },
 "nbformat": 4,
 "nbformat_minor": 5
}
